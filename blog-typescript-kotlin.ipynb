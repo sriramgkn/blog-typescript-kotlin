{
  "nbformat": 4,
  "nbformat_minor": 0,
  "metadata": {
    "colab": {
      "provenance": []
    },
    "kernelspec": {
      "name": "python3",
      "display_name": "Python 3"
    },
    "language_info": {
      "name": "python"
    }
  },
  "cells": [
    {
      "cell_type": "markdown",
      "source": [
        "## Exploring TypeScript and Kotlin\n",
        "\n",
        "Cite like this [[0](#ref-0)].\n",
        "Jupyter instructions: We use TypeScript, Kotlin, bash commands, JSON, and XML. Kernels for TypeScript and Kotlin may be found [here](https://github.com/jupyter/jupyter/wiki/Jupyter-kernels), while the other three are not meant to be run in Jupyter.\n",
        "\n",
        "In this post, we will explore [TypeScript](https://www.typescriptlang.org/) and [Kotlin](https://kotlinlang.org/). TypeScript is a superset of JavaScript allowing static data types as an optional choice. Kotlin is a modern Android development language.\n",
        "\n",
        "Let us start with a guide to front-end development with TypeScript, including detailed code examples and explanations.\n",
        "\n",
        "## TypeScript for Front-End Development\n",
        "\n",
        "TypeScript is a typed superset of JavaScript that compiles to plain JavaScript. It provides optional static typing, classes, and modules, making it an excellent choice for large-scale JavaScript applications. By using TypeScript, developers can catch errors early, write more maintainable code, and take advantage of powerful tooling support.\n",
        "\n",
        "Some key benefits of using TypeScript for front-end development include [[1](#ref-1)] [[3](#ref-3)] [[8](#ref-8)]:\n",
        "\n",
        "- Static typing helps catch bugs before runtime\n",
        "- Enhanced IDE support with autocompletion and type checking\n",
        "- Improved code readability and maintainability\n",
        "- Support for modern JavaScript features (ES6+)\n",
        "- Seamless integration with existing JavaScript libraries\n",
        "\n",
        "## Setting Up a TypeScript Project\n",
        "\n",
        "To get started with TypeScript, you'll need to install it globally via npm:"
      ],
      "metadata": {
        "id": "LcZ68UjXQ6om"
      }
    },
    {
      "cell_type": "code",
      "source": [
        "npm install -g typescript"
      ],
      "metadata": {
        "id": "xKC8JeDggIxH"
      },
      "execution_count": null,
      "outputs": []
    },
    {
      "cell_type": "markdown",
      "source": [
        "Next, create a new project directory and initialize a `package.json` file:"
      ],
      "metadata": {
        "id": "rt7wXvbiDxEw"
      }
    },
    {
      "cell_type": "code",
      "source": [
        "mkdir my-typescript-app\n",
        "cd my-typescript-app\n",
        "npm init -y"
      ],
      "metadata": {
        "id": "MhdCB19zD0uZ"
      },
      "execution_count": null,
      "outputs": []
    },
    {
      "cell_type": "markdown",
      "source": [
        "Create a `tsconfig.json` file to configure the TypeScript compiler options:"
      ],
      "metadata": {
        "id": "Kvj3TMS1D1xB"
      }
    },
    {
      "cell_type": "code",
      "source": [
        "{\n",
        "  \"compilerOptions\": {\n",
        "    \"target\": \"es5\",\n",
        "    \"module\": \"commonjs\",\n",
        "    \"strict\": true,\n",
        "    \"esModuleInterop\": true,\n",
        "    \"outDir\": \"dist\"\n",
        "  }\n",
        "}"
      ],
      "metadata": {
        "id": "KGxey8haD9Io"
      },
      "execution_count": null,
      "outputs": []
    },
    {
      "cell_type": "markdown",
      "source": [
        "This configuration targets ES5, uses CommonJS modules, enables strict type checking, and outputs the compiled JavaScript to a `dist` directory [[15](#ref-15)].\n",
        "\n",
        "## Basic Types and Variables\n",
        "\n",
        "TypeScript supports several basic types, including `string`, `number`, `boolean`, `array`, `tuple`, `enum`, `any`, `void`, `null`, and `undefined`. You can declare variables with type annotations:"
      ],
      "metadata": {
        "id": "ojQoB971FVPG"
      }
    },
    {
      "cell_type": "code",
      "source": [
        "let name: string = \"John\";\n",
        "let age: number = 30;\n",
        "let isStudent: boolean = false;\n",
        "let hobbies: string[] = [\"sports\", \"cooking\"];\n",
        "let role: [number, string] = [1, \"admin\"];"
      ],
      "metadata": {
        "id": "vialjQ08FdDo"
      },
      "execution_count": null,
      "outputs": []
    },
    {
      "cell_type": "markdown",
      "source": [
        "The `any` type is a special type that allows any value and opts out of type checking. It should be used sparingly [[1](#ref-1)] [[16](#ref-16)].\n",
        "\n",
        "## Functions\n",
        "\n",
        "Functions in TypeScript can have parameter types and return types specified:"
      ],
      "metadata": {
        "id": "p97o-4b3FeGR"
      }
    },
    {
      "cell_type": "code",
      "source": [
        "function add(a: number, b: number): number {\n",
        "  return a + b;\n",
        "}\n",
        "\n",
        "let result = add(10, 20); // result is of type number"
      ],
      "metadata": {
        "id": "M9w_akgBFm7o"
      },
      "execution_count": null,
      "outputs": []
    },
    {
      "cell_type": "markdown",
      "source": [
        "You can also use arrow functions and function type expressions:"
      ],
      "metadata": {
        "id": "peFGxBoLFn9w"
      }
    },
    {
      "cell_type": "code",
      "source": [
        "const multiply = (a: number, b: number): number => a * b;\n",
        "\n",
        "type MathOperation = (x: number, y: number) => number;\n",
        "\n",
        "const divide: MathOperation = (x, y) => x / y;"
      ],
      "metadata": {
        "id": "92SwIz7OFwgo"
      },
      "execution_count": null,
      "outputs": []
    },
    {
      "cell_type": "markdown",
      "source": [
        "Optional and default parameters are supported as well [[2](#ref-2)] [[19](#ref-19)]:"
      ],
      "metadata": {
        "id": "Wz3_X9Z4FxWA"
      }
    },
    {
      "cell_type": "code",
      "source": [
        "function greet(name: string, greeting?: string) {\n",
        "  console.log(`${greeting || \"Hello\"}, ${name}!`);\n",
        "}\n",
        "\n",
        "greet(\"John\"); // Hello, John!\n",
        "greet(\"Mary\", \"Hi\"); // Hi, Mary!"
      ],
      "metadata": {
        "id": "IU8zWFBoF2CQ"
      },
      "execution_count": null,
      "outputs": []
    },
    {
      "cell_type": "markdown",
      "source": [
        "## Interfaces and Type Aliases\n",
        "\n",
        "Interfaces define the shape of an object, specifying the names and types of properties:"
      ],
      "metadata": {
        "id": "7CLz4MFPF29I"
      }
    },
    {
      "cell_type": "code",
      "source": [
        "interface Person {\n",
        "  name: string;\n",
        "  age: number;\n",
        "  email?: string;\n",
        "}\n",
        "\n",
        "function printPerson(person: Person) {\n",
        "  console.log(`Name: ${person.name}, Age: ${person.age}`);\n",
        "  if (person.email) {\n",
        "    console.log(`Email: ${person.email}`);\n",
        "  }\n",
        "}\n",
        "\n",
        "let john: Person = { name: \"John\", age: 30 };\n",
        "printPerson(john);"
      ],
      "metadata": {
        "id": "TjtfQosEF9G4"
      },
      "execution_count": null,
      "outputs": []
    },
    {
      "cell_type": "markdown",
      "source": [
        "Type aliases allow you to create custom types by combining existing types [[13](#ref-13)]:"
      ],
      "metadata": {
        "id": "VyxOH_CSGBxC"
      }
    },
    {
      "cell_type": "code",
      "source": [
        "type ID = number | string;\n",
        "\n",
        "function getUserID(id: ID) {\n",
        "  // ...\n",
        "}\n",
        "\n",
        "getUserID(123);\n",
        "getUserID(\"abc\");"
      ],
      "metadata": {
        "id": "S1-skKRPGZ3e"
      },
      "execution_count": null,
      "outputs": []
    },
    {
      "cell_type": "markdown",
      "source": [
        "## Classes\n",
        "\n",
        "TypeScript supports object-oriented programming with classes, inheritance, and modifiers like `public`, `private`, and `protected`:"
      ],
      "metadata": {
        "id": "_2Wj_PrPGbcw"
      }
    },
    {
      "cell_type": "code",
      "source": [
        "class Animal {\n",
        "  protected name: string;\n",
        "\n",
        "  constructor(name: string) {\n",
        "    this.name = name;\n",
        "  }\n",
        "\n",
        "  move(distance: number) {\n",
        "    console.log(`${this.name} moved ${distance}m.`);\n",
        "  }\n",
        "}\n",
        "\n",
        "class Dog extends Animal {\n",
        "  bark() {\n",
        "    console.log(\"Woof! Woof!\");\n",
        "  }\n",
        "}\n",
        "\n",
        "const dog = new Dog(\"Buddy\");\n",
        "dog.move(10); // Buddy moved 10m.\n",
        "dog.bark(); // Woof! Woof!"
      ],
      "metadata": {
        "id": "2pmhcjTAGhnS"
      },
      "execution_count": null,
      "outputs": []
    },
    {
      "cell_type": "markdown",
      "source": [
        "## Modules\n",
        "\n",
        "TypeScript supports ES6 modules for organizing code into reusable units. You can use `export` and `import` statements:"
      ],
      "metadata": {
        "id": "Zo1a1K1oGjCc"
      }
    },
    {
      "cell_type": "code",
      "source": [
        "// math.ts\n",
        "export function square(x: number) {\n",
        "  return x * x;\n",
        "}\n",
        "\n",
        "export const PI = 3.14;\n",
        "\n",
        "// app.ts\n",
        "import { square, PI } from \"./math\";\n",
        "\n",
        "console.log(square(5)); // 25\n",
        "console.log(PI); // 3.14"
      ],
      "metadata": {
        "id": "Zy11g499Gnp_"
      },
      "execution_count": null,
      "outputs": []
    },
    {
      "cell_type": "markdown",
      "source": [
        "## Generics\n",
        "\n",
        "Generics allow you to write reusable code that works with multiple types. They provide type safety and flexibility:"
      ],
      "metadata": {
        "id": "wpuS8_YrGrtI"
      }
    },
    {
      "cell_type": "code",
      "source": [
        "function identity<T>(arg: T): T {\n",
        "  return arg;\n",
        "}\n",
        "\n",
        "let output1 = identity<string>(\"Hello\"); // type is string\n",
        "let output2 = identity<number>(42); // type is number"
      ],
      "metadata": {
        "id": "PwBbKkU7G2Gc"
      },
      "execution_count": null,
      "outputs": []
    },
    {
      "cell_type": "markdown",
      "source": [
        "You can also use generics with interfaces, classes, and type aliases [[11](#ref-11)].\n",
        "\n",
        "## Integrating with JavaScript Libraries\n",
        "\n",
        "When working with existing JavaScript libraries in TypeScript, you can use declaration files (`.d.ts`) to provide type information. Many popular libraries have type declarations available on DefinitelyTyped.\n",
        "\n",
        "For example, to use jQuery with TypeScript:"
      ],
      "metadata": {
        "id": "tlABggHeHGbh"
      }
    },
    {
      "cell_type": "code",
      "source": [
        "npm install jquery\n",
        "npm install @types/jquery"
      ],
      "metadata": {
        "id": "5vMB-ToXHOnF"
      },
      "execution_count": null,
      "outputs": []
    },
    {
      "cell_type": "markdown",
      "source": [
        "Then you can use jQuery with type safety:"
      ],
      "metadata": {
        "id": "T6YeXiQ6HRZM"
      }
    },
    {
      "cell_type": "code",
      "source": [
        "import $ from \"jquery\";\n",
        "\n",
        "$(\"button\").click(() => {\n",
        "  console.log(\"Button clicked!\");\n",
        "});"
      ],
      "metadata": {
        "id": "8_n946zFHSqt"
      },
      "execution_count": null,
      "outputs": []
    },
    {
      "cell_type": "markdown",
      "source": [
        "## TypeScript with Front-End Frameworks\n",
        "\n",
        "TypeScript integrates well with popular front-end frameworks like React, Angular, and Vue.js.\n",
        "\n",
        "For React, you can use `create-react-app` with the TypeScript template:"
      ],
      "metadata": {
        "id": "OwvwOav5HW_T"
      }
    },
    {
      "cell_type": "code",
      "source": [
        "npx create-react-app my-app --template typescript"
      ],
      "metadata": {
        "id": "ezheiIx9HbJ-"
      },
      "execution_count": null,
      "outputs": []
    },
    {
      "cell_type": "markdown",
      "source": [
        "This sets up a new React project with TypeScript configured [[3](#ref-3)].\n",
        "\n",
        "Here's an example of a React component written in TypeScript:"
      ],
      "metadata": {
        "id": "5PJgNy1QHexu"
      }
    },
    {
      "cell_type": "code",
      "source": [
        "import React from \"react\";\n",
        "\n",
        "interface Props {\n",
        "  name: string;\n",
        "}\n",
        "\n",
        "const Greeting: React.FC<Props> = ({ name }) => {\n",
        "  return <h1>Hello, {name}!</h1>;\n",
        "};\n",
        "\n",
        "export default Greeting;"
      ],
      "metadata": {
        "id": "FQHeur38HnfD"
      },
      "execution_count": null,
      "outputs": []
    },
    {
      "cell_type": "markdown",
      "source": [
        "Angular has built-in support for TypeScript. You can create a new Angular project with TypeScript using the Angular CLI:"
      ],
      "metadata": {
        "id": "lb_X28k5Hogp"
      }
    },
    {
      "cell_type": "code",
      "source": [
        "ng new my-app"
      ],
      "metadata": {
        "id": "pZ31i8QZHrZQ"
      },
      "execution_count": null,
      "outputs": []
    },
    {
      "cell_type": "markdown",
      "source": [
        "Here's an example of an Angular component:"
      ],
      "metadata": {
        "id": "4IHPY3kEHuq8"
      }
    },
    {
      "cell_type": "code",
      "source": [
        "import { Component } from \"@angular/core\";\n",
        "\n",
        "@Component({\n",
        "  selector: \"app-root\",\n",
        "  template: `<h1>Welcome to {{ title }}!</h1>`,\n",
        "})\n",
        "export class AppComponent {\n",
        "  title = \"My App\";\n",
        "}"
      ],
      "metadata": {
        "id": "ZjKFjaiZHxeW"
      },
      "execution_count": null,
      "outputs": []
    },
    {
      "cell_type": "markdown",
      "source": [
        "## Conclusion\n",
        "\n",
        "TypeScript brings the benefits of static typing, enhanced tooling, and improved maintainability to front-end development. By leveraging TypeScript's features, developers can catch errors early, write more robust code, and scale their applications with confidence.\n",
        "\n",
        "Whether you're working on a small project or a large-scale application, integrating TypeScript into your front-end development workflow can greatly improve your development experience and code quality [[1](#ref-1)] [[3](#ref-3)] [[8](#ref-8)]."
      ],
      "metadata": {
        "id": "zvFTOFDZH2SJ"
      }
    },
    {
      "cell_type": "markdown",
      "source": [
        "Let us now switch gears to Kotlin - a modern language for Android development.\n",
        "\n",
        "## Overview of Kotlin for Android\n",
        "\n",
        "Kotlin is a modern, concise and safe programming language that is fully interoperable with Java. Google announced official support for Kotlin on Android in 2017, and it has since become the preferred language for Android app development. Over 60% of professional Android developers now use Kotlin [[27](#ref-27)].\n",
        "\n",
        "The key benefits of using Kotlin for Android development include:\n",
        "\n",
        "- Less code combined with greater readability\n",
        "- Fewer common errors and crashes\n",
        "- Seamless interoperability with existing Java code\n",
        "- Support for modern programming concepts like data classes, extension functions, null safety, etc.\n",
        "- Mature language with great IDE support in Android Studio\n",
        "\n",
        "## Getting Started\n",
        "\n",
        "To start developing Android apps with Kotlin, you need:\n",
        "\n",
        "1. Install the latest version of Android Studio\n",
        "2. When creating a new project, select Kotlin as the language\n",
        "3. Familiarize yourself with basic Kotlin syntax\n",
        "\n",
        "Android Studio provides a fully configured environment for developing Kotlin apps, including autocomplete, debugging, refactoring, and more [[27](#ref-27)].\n",
        "\n",
        "## Kotlin Basics\n",
        "\n",
        "Here are some of the key Kotlin language features used in Android:\n",
        "\n",
        "### Variables\n",
        "\n",
        "Declare read-only variables with `val` and mutable variables with `var`:"
      ],
      "metadata": {
        "id": "r_J6BojOH7JG"
      }
    },
    {
      "cell_type": "code",
      "source": [
        "val a: Int = 1  // immediate assignment\n",
        "val b = 2   // `Int` type is inferred\n",
        "val c: Int  // Type required when no initializer is provided\n",
        "c = 3       // deferred assignment\n",
        "\n",
        "var x = 5 // `Int` type is inferred\n",
        "x += 1"
      ],
      "metadata": {
        "id": "hYT-b3ryIMm0"
      },
      "execution_count": null,
      "outputs": []
    },
    {
      "cell_type": "markdown",
      "source": [
        "### Functions\n",
        "\n",
        "Declare functions with the `fun` keyword:"
      ],
      "metadata": {
        "id": "iiApbX-RINrk"
      }
    },
    {
      "cell_type": "code",
      "source": [
        "fun sum(a: Int, b: Int): Int {\n",
        "    return a + b\n",
        "}\n",
        "\n",
        "// Function with an expression body and inferred return type\n",
        "fun mul(a: Int, b: Int) = a * b"
      ],
      "metadata": {
        "id": "m72kYQ04IaHJ"
      },
      "execution_count": null,
      "outputs": []
    },
    {
      "cell_type": "markdown",
      "source": [
        "Functions can have default arguments and named arguments [[36](#ref-36)].\n",
        "\n",
        "### Classes\n",
        "\n",
        "Declare classes with the `class` keyword:"
      ],
      "metadata": {
        "id": "SBSJH09jIa-m"
      }
    },
    {
      "cell_type": "code",
      "source": [
        "class Rectangle(var height: Double, var length: Double) {\n",
        "    var perimeter = (height + length) * 2\n",
        "}"
      ],
      "metadata": {
        "id": "6gT0QbrYIhyx"
      },
      "execution_count": null,
      "outputs": []
    },
    {
      "cell_type": "markdown",
      "source": [
        "Kotlin has many other useful class-related features like data classes, sealed classes, extension functions, etc [[28](#ref-28)].\n",
        "\n",
        "### Null Safety\n",
        "\n",
        "Kotlin helps avoid NullPointerExceptions with its built-in null safety:"
      ],
      "metadata": {
        "id": "fydo2S7TIjHb"
      }
    },
    {
      "cell_type": "code",
      "source": [
        "var a: String = \"abc\" // Regular initialization means non-null by default\n",
        "a = null // compilation error\n",
        "\n",
        "var b: String? = \"abc\" // can be set to null\n",
        "b = null // ok\n",
        "print(b)"
      ],
      "metadata": {
        "id": "POEkt9_MO8R8"
      },
      "execution_count": null,
      "outputs": []
    },
    {
      "cell_type": "markdown",
      "source": [
        "\n",
        "### Android Extensions\n",
        "\n",
        "Kotlin provides a set of extension functions to make Android development more concise and idiomatic. For example:\n"
      ],
      "metadata": {
        "id": "Tmjn0fjQO_aj"
      }
    },
    {
      "cell_type": "code",
      "source": [
        "// Instead of findView<TextView>(R.id.txt_view)\n",
        "val textView = txt_view\n",
        "\n",
        "// Instead of getColor(R.color.colorPrimary)\n",
        "val color = colors.colorPrimary"
      ],
      "metadata": {
        "id": "1WC3Dv-2PDGg"
      },
      "execution_count": null,
      "outputs": []
    },
    {
      "cell_type": "markdown",
      "source": [
        "These are automatically imported when using Kotlin in Android Studio [[27](#ref-27)].\n",
        "\n",
        "## Building User Interfaces\n",
        "\n",
        "Kotlin can be used with both the older View-based UI toolkit and the newer Jetpack Compose toolkit.\n",
        "\n",
        "### View-based UI\n",
        "\n",
        "With the View-based approach, you define your UI in XML layout files and interact with them in Kotlin code. For example:"
      ],
      "metadata": {
        "id": "95hfjyPUPGsc"
      }
    },
    {
      "cell_type": "code",
      "source": [
        "<!-- activity_main.xml -->\n",
        "<LinearLayout\n",
        "    xmlns:android=\"http://schemas.android.com/apk/res/android\"\n",
        "    android:layout_width=\"match_parent\"\n",
        "    android:layout_height=\"match_parent\">\n",
        "\n",
        "    <TextView\n",
        "        android:id=\"@+id/txt_hello\"\n",
        "        android:layout_width=\"wrap_content\"\n",
        "        android:layout_height=\"wrap_content\"\n",
        "        android:text=\"Hello World!\" />\n",
        "\n",
        "</LinearLayout>"
      ],
      "metadata": {
        "id": "nCLsv3pCPNU6"
      },
      "execution_count": null,
      "outputs": []
    },
    {
      "cell_type": "code",
      "source": [
        "// MainActivity.kt\n",
        "import androidx.appcompat.app.AppCompatActivity\n",
        "\n",
        "class MainActivity : AppCompatActivity() {\n",
        "    override fun onCreate(savedInstanceState: Bundle?) {\n",
        "        super.onCreate(savedInstanceState)\n",
        "        setContentView(R.layout.activity_main)\n",
        "\n",
        "        txt_hello.text = \"Hello from Kotlin!\"\n",
        "    }\n",
        "}"
      ],
      "metadata": {
        "id": "pvxKWjgOPQKp"
      },
      "execution_count": null,
      "outputs": []
    },
    {
      "cell_type": "markdown",
      "source": [
        "Key UI elements include:\n",
        "\n",
        "- `TextView` for displaying text\n",
        "- `EditText` for user input\n",
        "- `Button` for handling clicks\n",
        "- `RecyclerView` for displaying lists\n",
        "- `ImageView` for images\n",
        "\n",
        "These are placed within layout containers like `LinearLayout`, `FrameLayout`, `ConstraintLayout`, etc [[24](#ref-24)].\n",
        "\n",
        "### Jetpack Compose UI\n",
        "\n",
        "Jetpack Compose is Android's modern toolkit for building native UI. It uses Kotlin and simplifies UI development:"
      ],
      "metadata": {
        "id": "o1X6EFzPPTSb"
      }
    },
    {
      "cell_type": "code",
      "source": [
        "class MainActivity : ComponentActivity() {\n",
        "    override fun onCreate(savedInstanceState: Bundle?) {\n",
        "        super.onCreate(savedInstanceState)\n",
        "        setContent {\n",
        "            MaterialTheme {\n",
        "                Greeting(\"Android\")\n",
        "            }\n",
        "        }\n",
        "    }\n",
        "}"
      ],
      "metadata": {
        "id": "Zr-pSe2xPXGq"
      },
      "execution_count": null,
      "outputs": []
    },
    {
      "cell_type": "markdown",
      "source": [
        "Compose has a declarative API, so you describe your UI as functions that convert state into UI elements. The framework automatically updates the UI when the underlying state changes [[27](#ref-27)].\n",
        "\n",
        "## Useful Libraries\n",
        "\n",
        "The Android Jetpack suite of libraries help with common Android development tasks [[25](#ref-25)]. Some key libraries are:\n",
        "\n",
        "- `ViewModel` for maintaining UI-related data across configuration changes\n",
        "- `LiveData` for observable data holder\n",
        "- `Room` for local SQLite databases\n",
        "- `WorkManager` for background tasks\n",
        "- `Navigation` for implementing navigation in your app\n",
        "\n",
        "Many of these have special Kotlin extensions for more idiomatic usage.\n",
        "\n",
        "## Sample Code\n",
        "\n",
        "The official Android samples repository contains many Kotlin samples demonstrating best practices for Android development: [https://github.com/android/architecture-samples](https://github.com/android/architecture-samples)\n",
        "\n",
        "It covers app architecture, UI, testing, and more using the latest Android libraries [[25](#ref-25)].\n",
        "\n",
        "## Learn More\n",
        "\n",
        "The Android Developer website has many resources for learning Kotlin Android development:\n",
        "\n",
        "- [Kotlin Bootcamp Course](https://developer.android.com/courses/kotlin-bootcamp/overview) - free, self-paced course teaching Kotlin basics [[24](#ref-24)]\n",
        "- [Advanced Kotlin Codelabs](https://developer.android.com/courses/kotlin-android-advanced/overview) - covers coroutines, testing, and more\n",
        "- [Jetpack Compose Pathway](https://developer.android.com/courses/pathways/compose) - learn how to build Android apps with Jetpack Compose\n",
        "\n",
        "There are also many tutorials and courses available online. With some dedication, you can master Android development using Kotlin and build high-quality, performant apps."
      ],
      "metadata": {
        "id": "rHP6EkjiPxXY"
      }
    },
    {
      "cell_type": "markdown",
      "source": [
        "---\n",
        "### References  \n",
        "[0] <a id=\"ref-0\"></a> [https://www.example.com](https://www.example.com)  \n",
        "[1] <a id=\"ref-1\"></a> [plainenglish.io: Everything You Need to Know About TypeScript for Front-End Development](https://javascript.plainenglish.io/everything-you-need-to-know-about-typescript-for-front-end-development-f01a897c227e?gi=eb45d082ac6c)  \n",
        "[2] <a id=\"ref-2\"></a> [jackthenomad.com: Why TypeScript is the Best Way to Write Front-End in 2019](https://jackthenomad.com/why-typescript-is-the-best-way-to-write-front-end-in-2019-feb855f9b164?gi=e4f266c37f59)  \n",
        "[3] <a id=\"ref-3\"></a> [tsh.io: Why Use TypeScript to Write the Frontend in 2023?](https://tsh.io/blog/why-use-typescript/)  \n",
        "[4] <a id=\"ref-4\"></a> [reddit.com: TypeScript in Frontend Development](https://www.reddit.com/r/typescript/comments/z8ygay/typescript_in_frontend/)  \n",
        "[5] <a id=\"ref-5\"></a> [w3schools.com: TypeScript Tutorial](https://www.w3schools.com/typescript/)  \n",
        "[6] <a id=\"ref-6\"></a> [tutorialspoint.com: TypeScript - Basic Syntax](https://www.tutorialspoint.com/typescript/typescript_basic_syntax.htm)  \n",
        "[7] <a id=\"ref-7\"></a> [frontendmasters.com: TypeScript Topics](https://frontendmasters.com/topics/typescript/)  \n",
        "[8] <a id=\"ref-8\"></a> [freecodecamp.org: Learn TypeScript – Beginner's Guide](https://www.freecodecamp.org/news/learn-typescript-beginners-guide/)  \n",
        "[9] <a id=\"ref-9\"></a> [bright.global: Next Level Frontend Development with TypeScript](https://www.bright.global/en/blog/next-level-frontend-development-with-typescript)  \n",
        "[10] <a id=\"ref-10\"></a> [freecodecamp.org: A Mental Model to Think in TypeScript](https://www.freecodecamp.org/news/a-mental-model-to-think-in-typescript-2/)  \n",
        "[11] <a id=\"ref-11\"></a> [typescriptlang.org: TypeScript in 5 Minutes](https://www.typescriptlang.org/docs/handbook/typescript-in-5-minutes.html)  \n",
        "[12] <a id=\"ref-12\"></a> [auth0.com: TypeScript: A Practical Introduction](https://auth0.com/blog/typescript-practical-introduction/)  \n",
        "[13] <a id=\"ref-13\"></a> [squash.io: Tutorial on Exact Type in TypeScript](https://www.squash.io/tutorial-on-exact-type-in-typescript/)  \n",
        "[14] <a id=\"ref-14\"></a> [joyofcode.xyz: TypeScript Fundamentals](https://joyofcode.xyz/typescript-fundamentals)  \n",
        "[15] <a id=\"ref-15\"></a> [code.visualstudio.com: TypeScript Tutorial in Visual Studio Code](https://code.visualstudio.com/docs/typescript/typescript-tutorial)  \n",
        "[16] <a id=\"ref-16\"></a> [typescriptlang.org: Basic Types](https://www.typescriptlang.org/docs/handbook/2/basic-types.html)  \n",
        "[17] <a id=\"ref-17\"></a> [topdesk.com: Front-end with TypeScript Tutorial: Step 1 to 3 (Minimal TypeScript)](https://techblog.topdesk.com/coding/front-end-with-typescript-tutorial-step-1-to-3-minimal-typescript/)  \n",
        "[18] <a id=\"ref-18\"></a> [typescriptlang.org: Declaration Files: Deep Dive](https://www.typescriptlang.org/docs/handbook/declaration-files/deep-dive.html)  \n",
        "[19] <a id=\"ref-19\"></a> [dev.to: TypeScript Basics](https://dev.to/riyadhossain/typescirpt-2g3)  \n",
        "[20] <a id=\"ref-20\"></a> [snyk.io: TypeScript Package Example](https://snyk.io/advisor/npm-package/typescript/example)  \n",
        "[21] <a id=\"ref-21\"></a> [youtube.com: TypeScript Course for Beginners - Learn TypeScript from Scratch!](https://www.youtube.com/watch?v=0MdkXBssRRg)  \n",
        "[22] <a id=\"ref-22\"></a> [proandroiddev.com: Code Clean Up with Kotlin](https://proandroiddev.com/code-clean-up-with-kotlin-19ee1c8c0719?gi=d0d6229a726f)  \n",
        "[23] <a id=\"ref-23\"></a> [developer.android.com: Kotlin Samples](https://developer.android.com/kotlin/samples)  \n",
        "[24] <a id=\"ref-24\"></a> [developer.android.com: Android Development with Kotlin Course](https://developer.android.com/courses/android-development-with-kotlin/course)  \n",
        "[25] <a id=\"ref-25\"></a> [developer.android.com: Android Samples](https://developer.android.com/samples)  \n",
        "[26] <a id=\"ref-26\"></a> [netguru.com: Kotlin Apps: Examples of Apps Built with Kotlin](https://www.netguru.com/blog/kotlin-apps)  \n",
        "[27] <a id=\"ref-27\"></a> [developer.android.com: Kotlin and Android](https://developer.android.com/kotlin)  \n",
        "[28] <a id=\"ref-28\"></a> [geeksforgeeks.org: A Complete Guide to Learn Kotlin for Android App Development](https://www.geeksforgeeks.org/a-complete-guide-to-learn-kotlin-for-android-app-development/)  \n",
        "[29] <a id=\"ref-29\"></a> [kotlinlang.org: Kotlin for Android](https://kotlinlang.org/docs/android-overview.html)  \n",
        "[30] <a id=\"ref-30\"></a> [geeksforgeeks.org: Kotlin Android Tutorial](https://www.geeksforgeeks.org/kotlin-android-tutorial/)  \n",
        "[31] <a id=\"ref-31\"></a> [developer.android.com: Write Your First Program in Kotlin](https://developer.android.com/codelabs/basic-android-kotlin-compose-first-program)  \n",
        "[32] <a id=\"ref-32\"></a> [developer.android.com: Build Your First Android App in Kotlin](https://developer.android.com/codelabs/build-your-first-android-app-kotlin)  \n",
        "[33] <a id=\"ref-33\"></a> [github.com: Kotlin Examples](https://github.com/Kotlin/kotlin-examples)  \n",
        "[34] <a id=\"ref-34\"></a> [developer.android.com: Kotlin Style Guide](https://developer.android.com/kotlin/style-guide)  \n",
        "[35] <a id=\"ref-35\"></a> [kotlinlang.org: Coding Conventions](https://kotlinlang.org/docs/coding-conventions.html)  \n",
        "[36] <a id=\"ref-36\"></a> [codepath.com: Using Kotlin for Android Development](https://guides.codepath.com/android/Using-Kotlin-for-Android-development)  \n",
        "[37] <a id=\"ref-37\"></a> [stackoverflow.com: Kotlin - Clearing EditText on Click](https://stackoverflow.com/questions/69421758/kotlin-clearing-edit-text-on-click)  \n",
        "[38] <a id=\"ref-38\"></a> [github.com: detekt - Static Code Analysis for Kotlin](https://github.com/detekt/detekt)  \n",
        "[39] <a id=\"ref-39\"></a> [youtube.com: Kotlin Course - Tutorial for Beginners](https://www.youtube.com/watch?v=BCSlZIUj18Y)  \n",
        "[40] <a id=\"ref-40\"></a> [youtube.com: Android Development Course - Build Native Apps with Kotlin Tutorial](https://www.youtube.com/watch?v=EExSSotojVI)  \n",
        "\n",
        "_Assisted by claude-3-opus on [perplexity.ai](https://perplexity.ai)_"
      ],
      "metadata": {
        "id": "TULMR03mRFk4"
      }
    }
  ]
}